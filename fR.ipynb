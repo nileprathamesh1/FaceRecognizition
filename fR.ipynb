{
  "nbformat": 4,
  "nbformat_minor": 0,
  "metadata": {
    "colab": {
      "name": "fR.ipynb",
      "provenance": [],
      "collapsed_sections": [],
      "toc_visible": true,
      "authorship_tag": "ABX9TyOsDR3mqhzIznSdbxa3ZSeB",
      "include_colab_link": true
    },
    "kernelspec": {
      "name": "python3",
      "display_name": "Python 3"
    }
  },
  "cells": [
    {
      "cell_type": "markdown",
      "metadata": {
        "id": "view-in-github",
        "colab_type": "text"
      },
      "source": [
        "<a href=\"https://colab.research.google.com/github/nileprathamesh1/FaceRecognizition/blob/master/fR.ipynb\" target=\"_parent\"><img src=\"https://colab.research.google.com/assets/colab-badge.svg\" alt=\"Open In Colab\"/></a>"
      ]
    },
    {
      "cell_type": "code",
      "metadata": {
        "id": "_5oj2CZbYSi-",
        "colab_type": "code",
        "colab": {}
      },
      "source": [
        "import cv2\n",
        "import os\n",
        "import numpy as np\n",
        "\n",
        "\n",
        "def faceDetection(test_img):\n",
        "\tgray_img = cv2.cvtColor(test_img,cv2.COLOR_BGR2GRAY)\n",
        "\tface_haar_cascade = cv2.CascadeClassifier('/home/prathamesh/Documents/projects/face_recognizition/HaarCascade/haarcascade_frontalface_default.xml')\n",
        "\tfaces = face_haar_cascade.detectMultiScale(gray_img,scaleFactor = 1.32 , minNeighbors = 5)\n",
        "\n",
        "\treturn faces,gray_img\n"
      ],
      "execution_count": 0,
      "outputs": []
    }
  ]
}